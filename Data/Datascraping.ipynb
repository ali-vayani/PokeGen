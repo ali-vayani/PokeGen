{
 "cells": [
  {
   "cell_type": "markdown",
   "metadata": {
    "colab_type": "text",
    "id": "view-in-github"
   },
   "source": [
    "<a href=\"https://colab.research.google.com/github/ali-vayani/PokeGen/blob/main/Datascraping.ipynb\" target=\"_parent\"><img src=\"https://colab.research.google.com/assets/colab-badge.svg\" alt=\"Open In Colab\"/></a>"
   ]
  },
  {
   "cell_type": "code",
   "execution_count": 8,
   "metadata": {},
   "outputs": [
    {
     "name": "stdout",
     "output_type": "stream",
     "text": [
      "Collecting openai\n",
      "  Downloading openai-1.59.6-py3-none-any.whl.metadata (27 kB)\n",
      "Requirement already satisfied: anyio<5,>=3.5.0 in /opt/homebrew/Cellar/jupyterlab/4.3.4_1/libexec/lib/python3.13/site-packages (from openai) (4.7.0)\n",
      "Collecting distro<2,>=1.7.0 (from openai)\n",
      "  Downloading distro-1.9.0-py3-none-any.whl.metadata (6.8 kB)\n",
      "Requirement already satisfied: httpx<1,>=0.23.0 in /opt/homebrew/Cellar/jupyterlab/4.3.4_1/libexec/lib/python3.13/site-packages (from openai) (0.28.1)\n",
      "Collecting jiter<1,>=0.4.0 (from openai)\n",
      "  Downloading jiter-0.8.2-cp313-cp313-macosx_11_0_arm64.whl.metadata (5.2 kB)\n",
      "Collecting pydantic<3,>=1.9.0 (from openai)\n",
      "  Downloading pydantic-2.10.5-py3-none-any.whl.metadata (30 kB)\n",
      "Requirement already satisfied: sniffio in /opt/homebrew/Cellar/jupyterlab/4.3.4_1/libexec/lib/python3.13/site-packages (from openai) (1.3.1)\n",
      "Collecting tqdm>4 (from openai)\n",
      "  Downloading tqdm-4.67.1-py3-none-any.whl.metadata (57 kB)\n",
      "Collecting typing-extensions<5,>=4.11 (from openai)\n",
      "  Using cached typing_extensions-4.12.2-py3-none-any.whl.metadata (3.0 kB)\n",
      "Requirement already satisfied: idna>=2.8 in /opt/homebrew/Cellar/jupyterlab/4.3.4_1/libexec/lib/python3.13/site-packages (from anyio<5,>=3.5.0->openai) (3.10)\n",
      "Requirement already satisfied: certifi in /opt/homebrew/opt/certifi/lib/python3.13/site-packages (from httpx<1,>=0.23.0->openai) (2024.12.14)\n",
      "Requirement already satisfied: httpcore==1.* in /opt/homebrew/Cellar/jupyterlab/4.3.4_1/libexec/lib/python3.13/site-packages (from httpx<1,>=0.23.0->openai) (1.0.7)\n",
      "Requirement already satisfied: h11<0.15,>=0.13 in /opt/homebrew/Cellar/jupyterlab/4.3.4_1/libexec/lib/python3.13/site-packages (from httpcore==1.*->httpx<1,>=0.23.0->openai) (0.14.0)\n",
      "Collecting annotated-types>=0.6.0 (from pydantic<3,>=1.9.0->openai)\n",
      "  Downloading annotated_types-0.7.0-py3-none-any.whl.metadata (15 kB)\n",
      "Collecting pydantic-core==2.27.2 (from pydantic<3,>=1.9.0->openai)\n",
      "  Downloading pydantic_core-2.27.2-cp313-cp313-macosx_11_0_arm64.whl.metadata (6.6 kB)\n",
      "Downloading openai-1.59.6-py3-none-any.whl (454 kB)\n",
      "Downloading distro-1.9.0-py3-none-any.whl (20 kB)\n",
      "Downloading jiter-0.8.2-cp313-cp313-macosx_11_0_arm64.whl (309 kB)\n",
      "Downloading pydantic-2.10.5-py3-none-any.whl (431 kB)\n",
      "Downloading pydantic_core-2.27.2-cp313-cp313-macosx_11_0_arm64.whl (1.8 MB)\n",
      "\u001b[2K   \u001b[38;2;114;156;31m━━━━━━━━━━━━━━━━━━━━━━━━━━━━━━━━━━━━━━━━\u001b[0m \u001b[32m1.8/1.8 MB\u001b[0m \u001b[31m5.9 MB/s\u001b[0m eta \u001b[36m0:00:00\u001b[0m MB/s\u001b[0m eta \u001b[36m0:00:01\u001b[0m\n",
      "\u001b[?25hDownloading tqdm-4.67.1-py3-none-any.whl (78 kB)\n",
      "Using cached typing_extensions-4.12.2-py3-none-any.whl (37 kB)\n",
      "Downloading annotated_types-0.7.0-py3-none-any.whl (13 kB)\n",
      "Installing collected packages: typing-extensions, tqdm, jiter, distro, annotated-types, pydantic-core, pydantic, openai\n",
      "Successfully installed annotated-types-0.7.0 distro-1.9.0 jiter-0.8.2 openai-1.59.6 pydantic-2.10.5 pydantic-core-2.27.2 tqdm-4.67.1 typing-extensions-4.12.2\n",
      "Note: you may need to restart the kernel to use updated packages.\n"
     ]
    }
   ],
   "source": [
    "pip install openai"
   ]
  },
  {
   "cell_type": "code",
   "execution_count": 1,
   "metadata": {
    "id": "6oP__emBREWb"
   },
   "outputs": [],
   "source": [
    "import requests\n",
    "from bs4 import BeautifulSoup\n",
    "import os\n",
    "from PIL import Image, ImageOps\n",
    "import csv\n",
    "import base64\n",
    "import re"
   ]
  },
  {
   "cell_type": "markdown",
   "metadata": {
    "id": "LgzVc4raJZZP"
   },
   "source": [
    "# Getting all the pokemon links"
   ]
  },
  {
   "cell_type": "code",
   "execution_count": 2,
   "metadata": {
    "colab": {
     "base_uri": "https://localhost:8080/"
    },
    "id": "6xdaGEILRgbF",
    "outputId": "5302d003-963f-43a8-f7c8-16400c10056e"
   },
   "outputs": [
    {
     "name": "stdout",
     "output_type": "stream",
     "text": [
      "1025\n"
     ]
    }
   ],
   "source": [
    "response = requests.get('https://pokemondb.net/pokedex/all')\n",
    "soup = BeautifulSoup(response.text, 'html.parser')\n",
    "rows = soup.select('table#pokedex tbody tr')\n",
    "pokemon_links = []\n",
    "for row in rows:\n",
    "  link_tag = row.find('a', href=True) # gets links\n",
    "  if link_tag:\n",
    "    pokemon_links.append('https://pokemondb.net' + link_tag['href'])\n",
    "\n",
    "pokemon_links = list(sorted(set(pokemon_links)))\n",
    "print(len(pokemon_links))\n"
   ]
  },
  {
   "cell_type": "markdown",
   "metadata": {
    "id": "j24dtMGyJlgu"
   },
   "source": [
    "# Scraping text & images + adding everything to CSV"
   ]
  },
  {
   "cell_type": "code",
   "execution_count": 3,
   "metadata": {
    "id": "Vxn4zqmA_I43"
   },
   "outputs": [],
   "source": [
    "# some pokemon have multiple forms or have different names in url\n",
    "special_cases = {\n",
    "    \"Eiscue\": [\n",
    "        'https://img.pokemondb.net/artwork/large/eiscue-noice.jpg',\n",
    "        'https://img.pokemondb.net/artwork/large/eiscue-ice.jpg'\n",
    "    ],\n",
    "    \"Enamorus\": [\n",
    "        'https://img.pokemondb.net/artwork/large/enamorus-therian.jpg',\n",
    "        'https://img.pokemondb.net/artwork/large/enamorus-incarnate.jpg'\n",
    "    ],\n",
    "    \"Flabébé\": ['https://img.pokemondb.net/artwork/large/flabebe.jpg'],\n",
    "    \"Giratina\": [\n",
    "        'https://img.pokemondb.net/artwork/large/giratina-origin.jpg',\n",
    "        'https://img.pokemondb.net/artwork/large/giratina-altered.jpg'\n",
    "    ],\n",
    "    \"Lycanroc\": [\n",
    "        'https://img.pokemondb.net/artwork/large/lycanroc-midnight.jpg',\n",
    "        'https://img.pokemondb.net/artwork/large/lycanroc-midday.jpg'\n",
    "    ],\n",
    "    \"Morpeko\": [\n",
    "        'https://img.pokemondb.net/artwork/large/morpeko-full-belly.jpg',\n",
    "        'https://img.pokemondb.net/artwork/large/morpeko-hangry.jpg'\n",
    "    ],\n",
    "    \"Nidoran♀ (female)\": ['https://img.pokemondb.net/artwork/large/nidoran-f.jpg'],\n",
    "    \"Nidoran♂ (male)\": ['https://img.pokemondb.net/artwork/large/nidoran-m.jpg'],\n",
    "    \"Oricorio\": [\n",
    "        'https://img.pokemondb.net/artwork/large/oricorio-baile.jpg',\n",
    "        'https://img.pokemondb.net/artwork/large/oricorio-pom-pom.jpg',\n",
    "        'https://img.pokemondb.net/artwork/large/oricorio-pau.jpg',\n",
    "        'https://img.pokemondb.net/artwork/large/oricorio-sensu.jpg'\n",
    "    ],\n",
    "    \"Shaymin\": [\n",
    "        'https://img.pokemondb.net/artwork/large/shaymin-land.jpg',\n",
    "        'https://img.pokemondb.net/artwork/large/shaymin-sky.jpg'\n",
    "    ],\n",
    "    \"Urshifu\": ['https://img.pokemondb.net/artwork/large/urshifu-single-strike.jpg'],\n",
    "    \"Wishiwashi\": [\n",
    "        'https://img.pokemondb.net/artwork/large/wishiwashi-solo.jpg',\n",
    "        'https://img.pokemondb.net/artwork/large/wishiwashi-school.jpg'\n",
    "    ]\n",
    "}"
   ]
  },
  {
   "cell_type": "code",
   "execution_count": 4,
   "metadata": {
    "id": "cvHSKtM2SxwM"
   },
   "outputs": [],
   "source": [
    "def clean_name(name):\n",
    "    name = name.replace(\"♀\", \"\").replace(\"♂\", \"\")\n",
    "    name = name.replace(\" \", \"-\")\n",
    "    name = re.sub(r'[^a-zA-Z0-9-]', '', name)\n",
    "    return name.lower()\n",
    "\n",
    "\n",
    "# resize func\n",
    "def resize_image_to_512(img_path, output_path):\n",
    "    with Image.open(img_path) as img:\n",
    "        img.thumbnail((512, 512))\n",
    "        canvas = Image.new('RGB', (512, 512), (255, 255, 255))\n",
    "        paste_x = (512 - img.width) // 2\n",
    "        paste_y = (512 - img.height) // 2\n",
    "        canvas.paste(img, (paste_x, paste_y))\n",
    "        canvas.save(output_path)"
   ]
  },
  {
   "cell_type": "code",
   "execution_count": 5,
   "metadata": {
    "id": "80jWf-lV_Evh"
   },
   "outputs": [],
   "source": [
    "def process_pokemon(name, img_url, type1, type2, csvwriter):\n",
    "    try:\n",
    "        response = requests.get(img_url)\n",
    "        response.raise_for_status()\n",
    "\n",
    "        temp_img_path = f'pokemon_images/{name}_original.jpg'\n",
    "        final_img_path = f'pokemon_images/{name}.jpg'\n",
    "        with open(temp_img_path, 'wb') as img_file:\n",
    "            img_file.write(response.content)\n",
    "        resize_image_to_512(temp_img_path, final_img_path)\n",
    "        os.remove(temp_img_path)\n",
    "        description = image_label(img_url)\n",
    "\n",
    "        # Write to CSV\n",
    "        csvwriter.writerow([name, final_img_path, type1, type2, description])\n",
    "        #print(f\"Processed {name} with default URL\")\n",
    "    except requests.exceptions.RequestException:\n",
    "        # If the default URL fails, try special cases\n",
    "        if name in special_cases:\n",
    "            for special_url in special_cases[name]:\n",
    "                try:\n",
    "                    response = requests.get(special_url)\n",
    "                    response.raise_for_status()\n",
    "\n",
    "                    # save and resize the image\n",
    "                    temp_img_path = f'pokemon_images/{special_url[40:]}_special_original.jpg'\n",
    "                    final_img_path = f'pokemon_images/{special_url[40:]}'\n",
    "                    with open(temp_img_path, 'wb') as img_file:\n",
    "                        img_file.write(response.content)\n",
    "                    resize_image_to_512(temp_img_path, final_img_path)\n",
    "                    os.remove(temp_img_path)\n",
    "                    description = image_label(special_url)\n",
    "\n",
    "                    # Write to CSV\n",
    "                    csvwriter.writerow([name, final_img_path, type1, type2, description])\n",
    "                    return\n",
    "                except requests.exceptions.RequestException:\n",
    "                    continue\n",
    "        print(f\"Failed to process {name}. No valid image found.\")"
   ]
  },
  {
   "cell_type": "code",
   "execution_count": 39,
   "metadata": {
    "id": "2ytsyJaZ3yR6"
   },
   "outputs": [],
   "source": [
    "import csv\n",
    "\n",
    "os.makedirs('pokemon_images', exist_ok=True)\n",
    "\n",
    "# CSV file setup\n",
    "csv_filename = 'pokemon_data.csv'\n",
    "csv_headers = ['Name', 'Image Path', 'Type 1', 'Type 2', 'Description']\n",
    "with open(csv_filename, mode='w', newline='', encoding='utf-8') as csvfile:\n",
    "    csvwriter = csv.writer(csvfile)\n",
    "    csvwriter.writerow(csv_headers)\n",
    "\n",
    "    # gets info + downloads image + writes to CSV for all pokemon\n",
    "    for url in pokemon_links[956:]:\n",
    "        response = requests.get(url)\n",
    "        soup = BeautifulSoup(response.text, 'html.parser')\n",
    "\n",
    "        # 1. name\n",
    "        name = soup.select_one('h1').text.strip()\n",
    "\n",
    "        # 2. img urls\n",
    "        img_url = f\"https://img.pokemondb.net/artwork/{clean_name(name)}.jpg\"\n",
    "\n",
    "        # 3. types\n",
    "        rows = soup.select('tr')\n",
    "        second_row = rows[1] if len(rows) > 1 else None\n",
    "        type_links = second_row.select('a') if second_row else None\n",
    "        type1 = type_links[0].text.strip() if len(type_links) > 0 else None\n",
    "        type2 = type_links[1].text.strip() if len(type_links) > 1 else None\n",
    "\n",
    "        process_pokemon(name, img_url, type1, type2, csvwriter)"
   ]
  },
  {
   "cell_type": "code",
   "execution_count": 29,
   "metadata": {
    "id": "Xb2p6z1gMuws"
   },
   "outputs": [],
   "source": [
    "from openai import OpenAI\n",
    "client = OpenAI(\n",
    "    api_key=\"...\"\n",
    ")\n",
    "def image_label(image_url):\n",
    "  response = client.chat.completions.create(\n",
    "      model=\"gpt-4o-mini\",\n",
    "      messages=[\n",
    "          {\n",
    "              \"role\": \"user\",\n",
    "              \"content\": [\n",
    "                  {\"type\": \"text\", \"text\": \"you're an assistant that creates a label for an image. this label should be written in the form of a text entry for a diffusion model.\"},\n",
    "                  {\n",
    "                      \"type\": \"image_url\",\n",
    "                      \"image_url\": {\n",
    "                          \"url\": image_url,\n",
    "                      },\n",
    "                  },\n",
    "              ],\n",
    "          }\n",
    "      ],\n",
    "      max_tokens=200,\n",
    "  )\n",
    "  return response.choices[0].message.content"
   ]
  }
 ],
 "metadata": {
  "colab": {
   "authorship_tag": "ABX9TyOxyc9Tn1ANEOidajd7UALY",
   "include_colab_link": true,
   "provenance": []
  },
  "kernelspec": {
   "display_name": "Python 3 (ipykernel)",
   "language": "python",
   "name": "python3"
  },
  "language_info": {
   "codemirror_mode": {
    "name": "ipython",
    "version": 3
   },
   "file_extension": ".py",
   "mimetype": "text/x-python",
   "name": "python",
   "nbconvert_exporter": "python",
   "pygments_lexer": "ipython3",
   "version": "3.13.1"
  }
 },
 "nbformat": 4,
 "nbformat_minor": 4
}
