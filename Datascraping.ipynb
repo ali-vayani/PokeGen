{
  "nbformat": 4,
  "nbformat_minor": 0,
  "metadata": {
    "colab": {
      "provenance": [],
      "authorship_tag": "ABX9TyOJg4BUmy8BDnyOZOt2SeN2"
    },
    "kernelspec": {
      "name": "python3",
      "display_name": "Python 3"
    },
    "language_info": {
      "name": "python"
    }
  },
  "cells": [
    {
      "cell_type": "code",
      "execution_count": 64,
      "metadata": {
        "id": "6oP__emBREWb"
      },
      "outputs": [],
      "source": [
        "import requests\n",
        "from bs4 import BeautifulSoup\n",
        "import os\n",
        "from PIL import Image, ImageOps\n",
        "import csv\n",
        "import base64"
      ]
    },
    {
      "cell_type": "code",
      "source": [
        "response = requests.get('https://pokemondb.net/pokedex/all')\n",
        "soup = BeautifulSoup(response.text, 'html.parser')\n",
        "rows = soup.select('table#pokedex tbody tr')\n",
        "pokemon_links = []\n",
        "for row in rows:\n",
        "  link_tag = row.find('a', href=True) # gets links\n",
        "  if link_tag:\n",
        "    pokemon_links.append('https://pokemondb.net' + link_tag['href'])\n",
        "\n",
        "pokemon_links = list(sorted(set(pokemon_links)))\n",
        "print(len(pokemon_links))\n"
      ],
      "metadata": {
        "colab": {
          "base_uri": "https://localhost:8080/"
        },
        "id": "6xdaGEILRgbF",
        "outputId": "907ce7e3-6728-4b7a-e2d0-05d64b133cb0"
      },
      "execution_count": 51,
      "outputs": [
        {
          "output_type": "stream",
          "name": "stdout",
          "text": [
            "1025\n"
          ]
        }
      ]
    },
    {
      "cell_type": "code",
      "source": [
        "import csv\n",
        "\n",
        "os.makedirs('pokemon_images', exist_ok=True)\n",
        "\n",
        "# resize func\n",
        "def resize_image_to_512(img_path, output_path):\n",
        "    with Image.open(img_path) as img:\n",
        "        img.thumbnail((512, 512))\n",
        "        canvas = Image.new('RGB', (512, 512), (255, 255, 255))\n",
        "        paste_x = (512 - img.width) // 2\n",
        "        paste_y = (512 - img.height) // 2\n",
        "        canvas.paste(img, (paste_x, paste_y))\n",
        "        canvas.save(output_path)\n",
        "\n",
        "# CSV file setup\n",
        "csv_filename = 'pokemon_data.csv'\n",
        "csv_headers = ['Name', 'Image Path', 'Type 1', 'Type 2']\n",
        "with open(csv_filename, mode='w', newline='', encoding='utf-8') as csvfile:\n",
        "    csvwriter = csv.writer(csvfile)\n",
        "    csvwriter.writerow(csv_headers)\n",
        "\n",
        "    # gets info + downloads image + writes to CSV for all pokemon\n",
        "    for url in pokemon_links:\n",
        "        response = requests.get(url)\n",
        "        soup = BeautifulSoup(response.text, 'html.parser')\n",
        "\n",
        "        # 1. name\n",
        "        name = soup.select_one('h1').text.strip()\n",
        "\n",
        "        # 2. img urls\n",
        "        img_url = f\"https://img.pokemondb.net/artwork/{name.lower()}.jpg\"\n",
        "\n",
        "        # 3. types\n",
        "        rows = soup.select('tr')\n",
        "        second_row = rows[1] if len(rows) > 1 else None\n",
        "        type_links = second_row.select('a') if second_row else None\n",
        "        type1 = type_links[0].text.strip() if len(type_links) > 0 else None\n",
        "        type2 = type_links[1].text.strip() if len(type_links) > 1 else None\n",
        "\n",
        "        # download & resize\n",
        "        try:\n",
        "            img_response = requests.get(img_url)\n",
        "            img_response.raise_for_status()\n",
        "            temp_img_path = f'pokemon_images/{name}_original.jpg'\n",
        "            final_img_path = f'pokemon_images/{name}.jpg'\n",
        "\n",
        "            # saves image\n",
        "            with open(temp_img_path, 'wb') as img_file:\n",
        "                img_file.write(img_response.content)\n",
        "            resize_image_to_512(temp_img_path, final_img_path)\n",
        "            os.remove(temp_img_path)\n",
        "\n",
        "            # create CSV\n",
        "            csvwriter.writerow([name, final_img_path, type1, type2])\n",
        "            print(f\"Processed {name}: {final_img_path}, {type1}, {type2}\")\n",
        "        except requests.exceptions.RequestException as e:\n",
        "            print(f\"Failed to download image for {name}: {e}\")\n",
        "        except Exception as e:\n",
        "            print(f\"Error processing data for {name}: {e}\")\n",
        "\n",
        "#print(f\"Data exported to {csv_filename}\")\n"
      ],
      "metadata": {
        "id": "2ytsyJaZ3yR6"
      },
      "execution_count": null,
      "outputs": []
    }
  ]
}