{
  "nbformat": 4,
  "nbformat_minor": 0,
  "metadata": {
    "colab": {
      "provenance": [],
      "authorship_tag": "ABX9TyOBNvew+zI9QPruJBNPHUg2"
    },
    "kernelspec": {
      "name": "python3",
      "display_name": "Python 3"
    },
    "language_info": {
      "name": "python"
    }
  },
  "cells": [
    {
      "cell_type": "code",
      "execution_count": null,
      "metadata": {
        "id": "6oP__emBREWb"
      },
      "outputs": [],
      "source": [
        "import requests\n",
        "from bs4 import BeautifulSoup\n",
        "import os"
      ]
    },
    {
      "cell_type": "code",
      "source": [
        "response = requests.get('https://pokemondb.net/pokedex/all')\n",
        "soup = BeautifulSoup(response.text, 'html.parser')\n",
        "rows = soup.select('table#pokedex tbody tr')\n",
        "\n",
        "pokemon_links = []\n",
        "for row in rows:\n",
        "  link_tag = row.find('a', href=True)\n",
        "  if link_tag:\n",
        "    pokemon_links.append('https://pokemondb.net' + link_tag['href'])\n",
        "\n",
        "print(len(pokemon_links))\n",
        "\n",
        "# tr\n",
        "  #td cell-num cell-fixed\n",
        "    #a ent-name (get body)\n",
        "    #a type-icon (get body)\n"
      ],
      "metadata": {
        "colab": {
          "base_uri": "https://localhost:8080/"
        },
        "id": "6xdaGEILRgbF",
        "outputId": "d863e35e-bfc7-4942-e05f-035bb436a604"
      },
      "execution_count": null,
      "outputs": [
        {
          "output_type": "stream",
          "name": "stdout",
          "text": [
            "1215\n"
          ]
        }
      ]
    }
  ]
}